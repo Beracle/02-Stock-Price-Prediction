{
 "cells": [
  {
   "cell_type": "code",
   "execution_count": 1,
   "metadata": {
    "collapsed": true
   },
   "outputs": [],
   "source": [
    "import pandas as pd\n",
    "import numpy as np\n",
    "import matplotlib.pyplot as plt\n",
    "from sklearn.preprocessing import MinMaxScaler\n",
    "from keras.models import Sequential\n",
    "from keras.layers import Dense, Dropout, LSTM"
   ]
  },
  {
   "cell_type": "code",
   "execution_count": 2,
   "metadata": {},
   "outputs": [],
   "source": [
    "df = pd.read_csv('NSE-TATAGLOBAL11.csv')"
   ]
  },
  {
   "cell_type": "code",
   "execution_count": 3,
   "metadata": {},
   "outputs": [],
   "source": [
    "# setting the index as date\n",
    "df['Date'] = pd.to_datetime(df.Date,format='%Y-%m-%d')\n",
    "df.index = df['Date']\n",
    "\n",
    "#creating dataframe\n",
    "data = df.sort_index(ascending=True, axis=0)\n",
    "new_data = pd.DataFrame(index=range(0,len(df)),columns=['Date', 'Close'])\n",
    "for i in range(0,len(data)):\n",
    "    new_data['Date'][i] = data['Date'][i]\n",
    "    new_data['Close'][i] = data['Close'][i]\n",
    "\n",
    "new_data.index = new_data.Date\n",
    "new_data.drop('Date', axis=1, inplace=True)"
   ]
  },
  {
   "cell_type": "code",
   "execution_count": 4,
   "metadata": {},
   "outputs": [
    {
     "data": {
      "text/html": [
       "<div>\n",
       "<style scoped>\n",
       "    .dataframe tbody tr th:only-of-type {\n",
       "        vertical-align: middle;\n",
       "    }\n",
       "\n",
       "    .dataframe tbody tr th {\n",
       "        vertical-align: top;\n",
       "    }\n",
       "\n",
       "    .dataframe thead th {\n",
       "        text-align: right;\n",
       "    }\n",
       "</style>\n",
       "<table border=\"1\" class=\"dataframe\">\n",
       "  <thead>\n",
       "    <tr style=\"text-align: right;\">\n",
       "      <th></th>\n",
       "      <th>Close</th>\n",
       "    </tr>\n",
       "    <tr>\n",
       "      <th>Date</th>\n",
       "      <th></th>\n",
       "    </tr>\n",
       "  </thead>\n",
       "  <tbody>\n",
       "    <tr>\n",
       "      <th>2013-10-08</th>\n",
       "      <td>155.8</td>\n",
       "    </tr>\n",
       "    <tr>\n",
       "      <th>2013-10-09</th>\n",
       "      <td>155.55</td>\n",
       "    </tr>\n",
       "    <tr>\n",
       "      <th>2013-10-10</th>\n",
       "      <td>160.15</td>\n",
       "    </tr>\n",
       "    <tr>\n",
       "      <th>2013-10-11</th>\n",
       "      <td>160.05</td>\n",
       "    </tr>\n",
       "    <tr>\n",
       "      <th>2013-10-14</th>\n",
       "      <td>159.45</td>\n",
       "    </tr>\n",
       "    <tr>\n",
       "      <th>...</th>\n",
       "      <td>...</td>\n",
       "    </tr>\n",
       "    <tr>\n",
       "      <th>2018-10-01</th>\n",
       "      <td>230.9</td>\n",
       "    </tr>\n",
       "    <tr>\n",
       "      <th>2018-10-03</th>\n",
       "      <td>227.6</td>\n",
       "    </tr>\n",
       "    <tr>\n",
       "      <th>2018-10-04</th>\n",
       "      <td>218.2</td>\n",
       "    </tr>\n",
       "    <tr>\n",
       "      <th>2018-10-05</th>\n",
       "      <td>209.2</td>\n",
       "    </tr>\n",
       "    <tr>\n",
       "      <th>2018-10-08</th>\n",
       "      <td>215.15</td>\n",
       "    </tr>\n",
       "  </tbody>\n",
       "</table>\n",
       "<p>1235 rows × 1 columns</p>\n",
       "</div>"
      ],
      "text/plain": [
       "<div>\n",
       "<style scoped>\n",
       "    .dataframe tbody tr th:only-of-type {\n",
       "        vertical-align: middle;\n",
       "    }\n",
       "\n",
       "    .dataframe tbody tr th {\n",
       "        vertical-align: top;\n",
       "    }\n",
       "\n",
       "    .dataframe thead th {\n",
       "        text-align: right;\n",
       "    }\n",
       "</style>\n",
       "<table border=\"1\" class=\"dataframe\">\n",
       "  <thead>\n",
       "    <tr style=\"text-align: right;\">\n",
       "      <th></th>\n",
       "      <th>Close</th>\n",
       "    </tr>\n",
       "    <tr>\n",
       "      <th>Date</th>\n",
       "      <th></th>\n",
       "    </tr>\n",
       "  </thead>\n",
       "  <tbody>\n",
       "    <tr>\n",
       "      <th>2013-10-08</th>\n",
       "      <td>155.8</td>\n",
       "    </tr>\n",
       "    <tr>\n",
       "      <th>2013-10-09</th>\n",
       "      <td>155.55</td>\n",
       "    </tr>\n",
       "    <tr>\n",
       "      <th>2013-10-10</th>\n",
       "      <td>160.15</td>\n",
       "    </tr>\n",
       "    <tr>\n",
       "      <th>2013-10-11</th>\n",
       "      <td>160.05</td>\n",
       "    </tr>\n",
       "    <tr>\n",
       "      <th>2013-10-14</th>\n",
       "      <td>159.45</td>\n",
       "    </tr>\n",
       "    <tr>\n",
       "      <th>...</th>\n",
       "      <td>...</td>\n",
       "    </tr>\n",
       "    <tr>\n",
       "      <th>2018-10-01</th>\n",
       "      <td>230.9</td>\n",
       "    </tr>\n",
       "    <tr>\n",
       "      <th>2018-10-03</th>\n",
       "      <td>227.6</td>\n",
       "    </tr>\n",
       "    <tr>\n",
       "      <th>2018-10-04</th>\n",
       "      <td>218.2</td>\n",
       "    </tr>\n",
       "    <tr>\n",
       "      <th>2018-10-05</th>\n",
       "      <td>209.2</td>\n",
       "    </tr>\n",
       "    <tr>\n",
       "      <th>2018-10-08</th>\n",
       "      <td>215.15</td>\n",
       "    </tr>\n",
       "  </tbody>\n",
       "</table>\n",
       "<p>1235 rows × 1 columns</p>\n",
       "</div>"
      ]
     },
     "execution_count": 4,
     "metadata": {},
     "output_type": "execute_result"
    }
   ],
   "source": [
    "new_data"
   ]
  },
  {
   "cell_type": "code",
   "execution_count": 5,
   "metadata": {},
   "outputs": [],
   "source": [
    "#creating train and test sets\n",
    "dataset = new_data.values"
   ]
  },
  {
   "cell_type": "code",
   "execution_count": 6,
   "metadata": {},
   "outputs": [
    {
     "data": {
      "text/plain": [
       "array([[155.8],\n       [155.55],\n       [160.15],\n       ...,\n       [218.2],\n       [209.2],\n       [215.15]], dtype=object)"
      ]
     },
     "execution_count": 6,
     "metadata": {},
     "output_type": "execute_result"
    }
   ],
   "source": [
    "dataset"
   ]
  },
  {
   "cell_type": "code",
   "execution_count": 7,
   "metadata": {},
   "outputs": [],
   "source": [
    "train = dataset[0:987,:]\n",
    "valid = dataset[987:,:]"
   ]
  },
  {
   "cell_type": "code",
   "execution_count": 8,
   "metadata": {},
   "outputs": [
    {
     "data": {
      "text/plain": [
       "array([[0.23823398],\n       [0.2371134 ],\n       [0.25773196],\n       ...,\n       [0.51792918],\n       [0.47758853],\n       [0.50425818]])"
      ]
     },
     "execution_count": 8,
     "metadata": {},
     "output_type": "execute_result"
    }
   ],
   "source": [
    "#converting dataset into x_train and y_train\n",
    "scaler = MinMaxScaler(feature_range=(0, 1))\n",
    "scaled_data = scaler.fit_transform(dataset)\n",
    "scaled_data"
   ]
  },
  {
   "cell_type": "code",
   "execution_count": 9,
   "metadata": {},
   "outputs": [],
   "source": [
    "x_train, y_train = [], []\n",
    "for i in range(60,len(train)):\n",
    "    x_train.append(scaled_data[i-60:i,0])\n",
    "    y_train.append(scaled_data[i,0])\n",
    "    \n",
    "x_train, y_train = np.array(x_train), np.array(y_train)"
   ]
  },
  {
   "cell_type": "code",
   "execution_count": 12,
   "metadata": {},
   "outputs": [
    {
     "data": {
      "text/plain": [
       "(927, 60)"
      ]
     },
     "execution_count": 12,
     "metadata": {},
     "output_type": "execute_result"
    }
   ],
   "source": [
    "x_train.shape"
   ]
  },
  {
   "cell_type": "code",
   "execution_count": 13,
   "metadata": {},
   "outputs": [
    {
     "data": {
      "text/plain": [
       "(927,)"
      ]
     },
     "execution_count": 13,
     "metadata": {},
     "output_type": "execute_result"
    }
   ],
   "source": [
    "y_train.shape"
   ]
  },
  {
   "cell_type": "code",
   "execution_count": 14,
   "metadata": {},
   "outputs": [],
   "source": [
    "x_train = np.reshape(x_train, (x_train.shape[0],x_train.shape[1],1))"
   ]
  },
  {
   "cell_type": "code",
   "execution_count": 15,
   "metadata": {},
   "outputs": [
    {
     "data": {
      "text/plain": [
       "(927, 60, 1)"
      ]
     },
     "execution_count": 15,
     "metadata": {},
     "output_type": "execute_result"
    }
   ],
   "source": [
    "x_train.shape"
   ]
  },
  {
   "cell_type": "code",
   "execution_count": 16,
   "metadata": {},
   "outputs": [
    {
     "name": "stdout",
     "output_type": "stream",
     "text": [
      "927/927 - 17s - loss: 0.0011\n"
     ]
    },
    {
     "data": {
      "text/plain": [
       "<tensorflow.python.keras.callbacks.History at 0x1b60057f910>"
      ]
     },
     "execution_count": 16,
     "metadata": {},
     "output_type": "execute_result"
    }
   ],
   "source": [
    "# create and fit the LSTM network\n",
    "model = Sequential() # 顺序模型，核心操作是添加layer（图层）\n",
    "model.add(LSTM(units=50, return_sequences=True, input_shape=(x_train.shape[1],1)))\n",
    "model.add(LSTM(units=50))\n",
    "model.add(Dense(1)) #全连接层\n",
    "\n",
    "model.compile(loss='mean_squared_error', optimizer='adam') #选择优化器，并指定损失函数\n",
    "model.fit(x_train, y_train, epochs=1, batch_size=1, verbose=2)"
   ]
  },
  {
   "cell_type": "code",
   "execution_count": 17,
   "metadata": {},
   "outputs": [],
   "source": [
    "#predicting 246 values, using past 60 from the train data\n",
    "inputs = new_data[len(new_data) - len(valid) - 60:].values\n",
    "inputs = inputs.reshape(-1,1)\n",
    "inputs  = scaler.transform(inputs)"
   ]
  },
  {
   "cell_type": "code",
   "execution_count": 18,
   "metadata": {},
   "outputs": [
    {
     "data": {
      "text/plain": [
       "(308, 1)"
      ]
     },
     "execution_count": 18,
     "metadata": {},
     "output_type": "execute_result"
    }
   ],
   "source": [
    "inputs.shape"
   ]
  },
  {
   "cell_type": "code",
   "execution_count": 19,
   "metadata": {},
   "outputs": [],
   "source": [
    "X_test = []\n",
    "for i in range(60,inputs.shape[0]):\n",
    "    X_test.append(inputs[i-60:i,0])\n",
    "X_test = np.array(X_test)\n",
    "\n",
    "X_test = np.reshape(X_test, (X_test.shape[0],X_test.shape[1],1))"
   ]
  },
  {
   "cell_type": "code",
   "execution_count": 21,
   "metadata": {},
   "outputs": [
    {
     "data": {
      "text/plain": [
       "(248, 60, 1)"
      ]
     },
     "execution_count": 21,
     "metadata": {},
     "output_type": "execute_result"
    }
   ],
   "source": [
    "X_test.shape"
   ]
  },
  {
   "cell_type": "code",
   "execution_count": 22,
   "metadata": {},
   "outputs": [
    {
     "data": {
      "text/plain": [
       "array([[0.46935248],\n       [0.47431025],\n       [0.4779763 ],\n       [0.48118928],\n       [0.48565152],\n       [0.48863056],\n       [0.48996782],\n       [0.49082652],\n       [0.48858848],\n       [0.4835635 ],\n       [0.47682342],\n       [0.4752461 ],\n       [0.47292182],\n       [0.47413403],\n       [0.48496863],\n       [0.5035525 ],\n       [0.5232103 ],\n       [0.54115355],\n       [0.5543668 ],\n       [0.56240654],\n       [0.57407546],\n       [0.5776144 ],\n       [0.5764499 ],\n       [0.58575225],\n       [0.5946846 ],\n       [0.6007323 ],\n       [0.61434245],\n       [0.6325066 ],\n       [0.6507797 ],\n       [0.6727413 ],\n       [0.70523953],\n       [0.7357843 ],\n       [0.76130235],\n       [0.78079283],\n       [0.79735863],\n       [0.8084066 ],\n       [0.8236791 ],\n       [0.83138204],\n       [0.8402642 ],\n       [0.8447349 ],\n       [0.8424643 ],\n       [0.83815336],\n       [0.8290838 ],\n       [0.82705986],\n       [0.83209336],\n       [0.8480501 ],\n       [0.85719466],\n       [0.85920787],\n       [0.85752594],\n       [0.8565239 ],\n       [0.8593087 ],\n       [0.8717567 ],\n       [0.8865994 ],\n       [0.899603  ],\n       [0.9119457 ],\n       [0.9246396 ],\n       [0.93488884],\n       [0.943174  ],\n       [0.95768225],\n       [0.96914697],\n       [0.9758091 ],\n       [0.97913444],\n       [0.98114014],\n       [0.98263764],\n       [0.98762536],\n       [0.9911063 ],\n       [0.99228823],\n       [0.99149024],\n       [1.0009166 ],\n       [1.0105712 ],\n       [1.012996  ],\n       [1.0093935 ],\n       [0.99645877],\n       [0.98413634],\n       [0.974342  ],\n       [0.965819  ],\n       [0.95678675],\n       [0.94917667],\n       [0.94139516],\n       [0.93691945],\n       [0.92304087],\n       [0.90567994],\n       [0.87797713],\n       [0.8490509 ],\n       [0.81888103],\n       [0.80474603],\n       [0.8003323 ],\n       [0.79961777],\n       [0.8069973 ],\n       [0.81436276],\n       [0.8183931 ],\n       [0.817492  ],\n       [0.8080627 ],\n       [0.79208827],\n       [0.77891874],\n       [0.76524603],\n       [0.76089025],\n       [0.7637607 ],\n       [0.7709018 ],\n       [0.7794453 ],\n       [0.78682697],\n       [0.7932372 ],\n       [0.79686296],\n       [0.79414475],\n       [0.7928202 ],\n       [0.7878324 ],\n       [0.7885735 ],\n       [0.7934209 ],\n       [0.79962265],\n       [0.8064202 ],\n       [0.80621624],\n       [0.7929269 ],\n       [0.7772075 ],\n       [0.7636634 ],\n       [0.7495477 ],\n       [0.7367779 ],\n       [0.73033655],\n       [0.7291845 ],\n       [0.72658086],\n       [0.7392454 ],\n       [0.75493026],\n       [0.7659532 ],\n       [0.77557445],\n       [0.7826452 ],\n       [0.79168415],\n       [0.7980107 ],\n       [0.80064213],\n       [0.8010682 ],\n       [0.8016809 ],\n       [0.80566883],\n       [0.81150997],\n       [0.81990707],\n       [0.8298315 ],\n       [0.83886623],\n       [0.8436514 ],\n       [0.84530365],\n       [0.85027003],\n       [0.8575065 ],\n       [0.86529505],\n       [0.8767452 ],\n       [0.8836446 ],\n       [0.8821087 ],\n       [0.8780061 ],\n       [0.8787507 ],\n       [0.8774085 ],\n       [0.87743485],\n       [0.8721287 ],\n       [0.8673657 ],\n       [0.8363235 ],\n       [0.7881371 ],\n       [0.7389493 ],\n       [0.702402  ],\n       [0.6750854 ],\n       [0.65581214],\n       [0.6466514 ],\n       [0.6464596 ],\n       [0.6543832 ],\n       [0.6679529 ],\n       [0.68464935],\n       [0.6977775 ],\n       [0.7131944 ],\n       [0.73104644],\n       [0.74209917],\n       [0.7415732 ],\n       [0.74289286],\n       [0.74609005],\n       [0.7506088 ],\n       [0.7547691 ],\n       [0.75527585],\n       [0.757277  ],\n       [0.76113117],\n       [0.7720634 ],\n       [0.77951455],\n       [0.78702056],\n       [0.7861259 ],\n       [0.7763684 ],\n       [0.7618754 ],\n       [0.75071585],\n       [0.7447016 ],\n       [0.74439025],\n       [0.74533236],\n       [0.74548197],\n       [0.7499013 ],\n       [0.75139654],\n       [0.7654607 ],\n       [0.77964234],\n       [0.7866678 ],\n       [0.78518426],\n       [0.7876146 ],\n       [0.79066753],\n       [0.7892765 ],\n       [0.7822299 ],\n       [0.768415  ],\n       [0.740664  ],\n       [0.7151756 ],\n       [0.68694043],\n       [0.657704  ],\n       [0.63730896],\n       [0.62802505],\n       [0.6279814 ],\n       [0.6249536 ],\n       [0.6232902 ],\n       [0.6252005 ],\n       [0.6285511 ],\n       [0.6360266 ],\n       [0.63515544],\n       [0.63067424],\n       [0.6245185 ],\n       [0.622429  ],\n       [0.6209198 ],\n       [0.6189896 ],\n       [0.61797285],\n       [0.6145104 ],\n       [0.61133635],\n       [0.61116767],\n       [0.61383474],\n       [0.6203724 ],\n       [0.6294327 ],\n       [0.6345382 ],\n       [0.6329584 ],\n       [0.62494457],\n       [0.62004113],\n       [0.6141479 ],\n       [0.60974646],\n       [0.607859  ],\n       [0.606074  ],\n       [0.60662055],\n       [0.5977459 ],\n       [0.5851331 ],\n       [0.57164156],\n       [0.5613383 ],\n       [0.55336773],\n       [0.54313326],\n       [0.5388192 ],\n       [0.5467615 ],\n       [0.5613693 ],\n       [0.5758569 ],\n       [0.5881076 ],\n       [0.59719646],\n       [0.60230255],\n       [0.60692286],\n       [0.6089405 ],\n       [0.6085607 ],\n       [0.6074295 ],\n       [0.6037264 ],\n       [0.5967407 ],\n       [0.5818304 ],\n       [0.5586101 ]], dtype=float32)"
      ]
     },
     "execution_count": 22,
     "metadata": {},
     "output_type": "execute_result"
    }
   ],
   "source": [
    "closing_price = model.predict(X_test)\n",
    "closing_price"
   ]
  },
  {
   "cell_type": "code",
   "execution_count": 23,
   "metadata": {},
   "outputs": [
    {
     "data": {
      "text/plain": [
       "array([[207.36253],\n       [208.46863],\n       [209.28651],\n       [210.00333],\n       [210.99886],\n       [211.66348],\n       [211.96182],\n       [212.1534 ],\n       [211.6541 ],\n       [210.53302],\n       [209.02931],\n       [208.67741],\n       [208.15886],\n       [208.4293 ],\n       [210.84651],\n       [214.99255],\n       [219.37822],\n       [223.38135],\n       [226.32924],\n       [228.1229 ],\n       [230.72623],\n       [231.51578],\n       [231.25597],\n       [233.33133],\n       [235.32413],\n       [236.67339],\n       [239.7098 ],\n       [243.76222],\n       [247.83896],\n       [252.73859],\n       [259.98895],\n       [266.80347],\n       [272.49655],\n       [276.84488],\n       [280.5407 ],\n       [283.0055 ],\n       [286.4128 ],\n       [288.13132],\n       [290.11295],\n       [291.11035],\n       [290.6038 ],\n       [289.642  ],\n       [287.6186 ],\n       [287.16705],\n       [288.29004],\n       [291.84998],\n       [293.89014],\n       [294.33926],\n       [293.96405],\n       [293.74048],\n       [294.3618 ],\n       [297.13892],\n       [300.45032],\n       [303.35144],\n       [306.10507],\n       [308.9371 ],\n       [311.2237 ],\n       [313.0721 ],\n       [316.3089 ],\n       [318.8667 ],\n       [320.353  ],\n       [321.09488],\n       [321.54236],\n       [321.87646],\n       [322.98923],\n       [323.7658 ],\n       [324.0295 ],\n       [323.85147],\n       [325.9545 ],\n       [328.10843],\n       [328.64938],\n       [327.84567],\n       [324.95996],\n       [322.21082],\n       [320.0257 ],\n       [318.1242 ],\n       [316.10913],\n       [314.41132],\n       [312.67526],\n       [311.67673],\n       [308.5804 ],\n       [304.70718],\n       [298.5267 ],\n       [292.07324],\n       [285.34235],\n       [282.18884],\n       [281.20413],\n       [281.0447 ],\n       [282.6911 ],\n       [284.33432],\n       [285.2335 ],\n       [285.03247],\n       [282.92877],\n       [279.3649 ],\n       [276.42676],\n       [273.37637],\n       [272.4046 ],\n       [273.045  ],\n       [274.63818],\n       [276.54425],\n       [278.1911 ],\n       [279.62122],\n       [280.4301 ],\n       [279.8237 ],\n       [279.5282 ],\n       [278.4154 ],\n       [278.58075],\n       [279.6622 ],\n       [281.0458 ],\n       [282.56235],\n       [282.51685],\n       [279.552  ],\n       [276.04498],\n       [273.02332],\n       [269.87408],\n       [267.02515],\n       [265.58807],\n       [265.33105],\n       [264.75018],\n       [267.57565],\n       [271.07495],\n       [273.53415],\n       [275.68066],\n       [277.25815],\n       [279.27472],\n       [280.6862 ],\n       [281.27325],\n       [281.36832],\n       [281.505  ],\n       [282.3947 ],\n       [283.69788],\n       [285.57126],\n       [287.7854 ],\n       [289.80106],\n       [290.86862],\n       [291.23724],\n       [292.34525],\n       [293.9597 ],\n       [295.69733],\n       [298.25186],\n       [299.7911 ],\n       [299.44846],\n       [298.53317],\n       [298.69928],\n       [298.39984],\n       [298.4057 ],\n       [297.22192],\n       [296.1593 ],\n       [289.23376],\n       [278.48337],\n       [267.50958],\n       [259.3559 ],\n       [253.26155],\n       [248.96169],\n       [246.91792],\n       [246.87514],\n       [248.64288],\n       [251.67029],\n       [255.39526],\n       [258.32416],\n       [261.76367],\n       [265.74646],\n       [268.2123 ],\n       [268.09497],\n       [268.3894 ],\n       [269.1027 ],\n       [270.1108 ],\n       [271.03897],\n       [271.15204],\n       [271.5985 ],\n       [272.45837],\n       [274.89734],\n       [276.5597 ],\n       [278.23428],\n       [278.0347 ],\n       [275.8578 ],\n       [272.6244 ],\n       [270.1347 ],\n       [268.79294],\n       [268.72345],\n       [268.93365],\n       [268.967  ],\n       [269.95297],\n       [270.28656],\n       [273.4243 ],\n       [276.5882 ],\n       [278.15558],\n       [277.82462],\n       [278.36682],\n       [279.0479 ],\n       [278.73758],\n       [277.1655 ],\n       [274.08337],\n       [267.89215],\n       [262.2057 ],\n       [255.9064 ],\n       [249.38376],\n       [244.83362],\n       [242.76239],\n       [242.75266],\n       [242.07715],\n       [241.70604],\n       [242.13223],\n       [242.87976],\n       [244.54753],\n       [244.35318],\n       [243.35342],\n       [241.98007],\n       [241.51392],\n       [241.17722],\n       [240.74658],\n       [240.51974],\n       [239.74727],\n       [239.03914],\n       [239.00151],\n       [239.59653],\n       [241.05508],\n       [243.07643],\n       [244.21547],\n       [243.86302],\n       [242.07513],\n       [240.98117],\n       [239.6664 ],\n       [238.68443],\n       [238.26335],\n       [237.8651 ],\n       [237.98705],\n       [236.00711],\n       [233.19319],\n       [230.18323],\n       [227.88457],\n       [226.10634],\n       [223.82303],\n       [222.86057],\n       [224.63249],\n       [227.8915 ],\n       [231.12367],\n       [233.8568 ],\n       [235.88452],\n       [237.0237 ],\n       [238.05449],\n       [238.50462],\n       [238.41989],\n       [238.16753],\n       [237.34135],\n       [235.78285],\n       [232.45636],\n       [227.27591]], dtype=float32)"
      ]
     },
     "execution_count": 23,
     "metadata": {},
     "output_type": "execute_result"
    }
   ],
   "source": [
    "closing_price = scaler.inverse_transform(closing_price)\n",
    "closing_price"
   ]
  },
  {
   "cell_type": "code",
   "execution_count": 26,
   "metadata": {},
   "outputs": [
    {
     "data": {
      "text/plain": [
       "(248, 1)"
      ]
     },
     "execution_count": 26,
     "metadata": {},
     "output_type": "execute_result"
    }
   ],
   "source": [
    "closing_price.shape"
   ]
  },
  {
   "cell_type": "code",
   "execution_count": 24,
   "metadata": {},
   "outputs": [
    {
     "data": {
      "text/plain": [
       "10.49427833778874"
      ]
     },
     "execution_count": 24,
     "metadata": {},
     "output_type": "execute_result"
    }
   ],
   "source": [
    "rmse = np.sqrt(np.mean(np.power((valid - closing_price),2)))\n",
    "rmse"
   ]
  },
  {
   "cell_type": "code",
   "execution_count": 25,
   "metadata": {},
   "outputs": [
    {
     "name": "stderr",
     "output_type": "stream",
     "text": [
      "<ipython-input-25-6074d1a5a266>:4: SettingWithCopyWarning: \nA value is trying to be set on a copy of a slice from a DataFrame.\nTry using .loc[row_indexer,col_indexer] = value instead\n\nSee the caveats in the documentation: https://pandas.pydata.org/pandas-docs/stable/user_guide/indexing.html#returning-a-view-versus-a-copy\n  valid['Predictions'] = closing_price\n"
     ]
    },
    {
     "data": {
      "text/plain": [
       "<function matplotlib.pyplot.show(close=None, block=None)>"
      ]
     },
     "execution_count": 25,
     "metadata": {},
     "output_type": "execute_result"
    },
    {
     "data": {
      "image/png": "[encoded data removed]",
      "text/plain": [
       "<Figure size 1152x576 with 1 Axes>"
      ]
     },
     "metadata": {},
     "output_type": "display_data"
    }
   ],
   "source": [
    "#for plotting\n",
    "train = new_data[:987]\n",
    "valid = new_data[987:]\n",
    "valid['Predictions'] = closing_price\n",
    "\n",
    "plt.figure(figsize=(16,8))\n",
    "plt.plot(train['Close'])\n",
    "plt.plot(valid[['Close','Predictions']])\n",
    "plt.show"
   ]
  },
  {
   "cell_type": "code",
   "execution_count": null,
   "metadata": {},
   "outputs": [],
   "source": []
  }
 ],
 "metadata": {
  "kernelspec": {
   "display_name": "Python 2",
   "language": "python",
   "name": "python2"
  },
  "language_info": {
   "codemirror_mode": {
    "name": "ipython",
    "version": 2
   },
   "file_extension": ".py",
   "mimetype": "text/x-python",
   "name": "python",
   "nbconvert_exporter": "python",
   "pygments_lexer": "ipython2",
   "version": "2.7.6"
  }
 },
 "nbformat": 4,
 "nbformat_minor": 0
}
